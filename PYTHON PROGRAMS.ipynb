{
 "cells": [
  {
   "cell_type": "markdown",
   "metadata": {},
   "source": [
    "# Q11) FACTORIAL OF A NUMBER"
   ]
  },
  {
   "cell_type": "code",
   "execution_count": 30,
   "metadata": {},
   "outputs": [
    {
     "name": "stdout",
     "output_type": "stream",
     "text": [
      "Enter a number: 30\n",
      "Factorail of  30  is :  265252859812191058636308480000000\n"
     ]
    }
   ],
   "source": [
    "n = input(\"Enter a number: \")\n",
    "factorial = 1\n",
    "for i in range (1,int(n)+1):\n",
    "    factorial = factorial * i\n",
    "print(\"Factorail of \",n , \" is : \",factorial)"
   ]
  },
  {
   "cell_type": "code",
   "execution_count": 31,
   "metadata": {},
   "outputs": [
    {
     "name": "stdout",
     "output_type": "stream",
     "text": [
      "Enter a number: 79\n",
      "Factorail of  79  is :  894618213078297528685144171539831652069808216779571907213868063227837990693501860533361810841010176000000000000000000\n"
     ]
    }
   ],
   "source": [
    "n = input(\"Enter a number: \")\n",
    "factorial = 1\n",
    "for i in range (1,int(n)+1):\n",
    "    factorial = factorial * i\n",
    "print(\"Factorail of \",n , \" is : \",factorial)"
   ]
  },
  {
   "cell_type": "markdown",
   "metadata": {},
   "source": [
    "# Q12) NUMBER IS PRIME OR NOT"
   ]
  },
  {
   "cell_type": "code",
   "execution_count": 1,
   "metadata": {},
   "outputs": [
    {
     "name": "stdout",
     "output_type": "stream",
     "text": [
      "Enter a number:11\n",
      "11 is a prime number\n",
      "2 times 5 is 11\n",
      "11 is a prime number\n",
      "3 times 3 is 11\n",
      "11 is a prime number\n",
      "4 times 2 is 11\n",
      "11 is a prime number\n",
      "5 times 2 is 11\n",
      "11 is a prime number\n",
      "6 times 1 is 11\n",
      "11 is a prime number\n",
      "7 times 1 is 11\n",
      "11 is a prime number\n",
      "8 times 1 is 11\n",
      "11 is a prime number\n",
      "9 times 1 is 11\n",
      "11 is a prime number\n",
      "10 times 1 is 11\n"
     ]
    }
   ],
   "source": [
    "num= int(input(\"Enter a number:\"))\n",
    "if num >1:\n",
    "    for i in range(2,num):\n",
    "        print(num,\"is a prime number\") \n",
    "        print(i,\"times\",num//i,\"is\",num)\n",
    "else:\n",
    "        print(num,\"is a prime number\") "
   ]
  },
  {
   "cell_type": "markdown",
   "metadata": {},
   "source": [
    "# Q13)GIVEN STRING IS PALINDROME OR NOT\n"
   ]
  },
  {
   "cell_type": "code",
   "execution_count": 2,
   "metadata": {},
   "outputs": [
    {
     "name": "stdout",
     "output_type": "stream",
     "text": [
      "The string is a palindrome.\n"
     ]
    }
   ],
   "source": [
    "String = 'MOM'\n",
    "rev_str = reversed(String)\n",
    "if list(String) == list(rev_str):\n",
    "    print(\"The string is a palindrome.\")\n",
    "else:\n",
    "    print(\"The string is not a palindrome.\")"
   ]
  },
  {
   "cell_type": "code",
   "execution_count": 3,
   "metadata": {},
   "outputs": [
    {
     "name": "stdout",
     "output_type": "stream",
     "text": [
      "The string is not a palindrome.\n"
     ]
    }
   ],
   "source": [
    "String = 'JHON'\n",
    "rev_str = reversed(String)\n",
    "if list(String) == list(rev_str):\n",
    "    print(\"The string is a palindrome.\")\n",
    "else:\n",
    "    print(\"The string is not a palindrome.\")"
   ]
  },
  {
   "cell_type": "markdown",
   "metadata": {},
   "source": [
    "# Q14)PROGRAM TO FIND THIRD SIDE OF RIGHT ANGLED TRAINGLE"
   ]
  },
  {
   "cell_type": "code",
   "execution_count": 4,
   "metadata": {},
   "outputs": [
    {
     "name": "stdout",
     "output_type": "stream",
     "text": [
      "Enter base: 45\n",
      "Enter height: 25\n",
      "Enter angle: 90\n",
      "Hypotenuse = 51.478150704935004\n"
     ]
    }
   ],
   "source": [
    "import math\n",
    "a = float(input(\"Enter base: \"))\n",
    "b = float(input(\"Enter height: \"))\n",
    "x = float(input(\"Enter angle: \"))\n",
    "c = math.sqrt(a ** 2 + b ** 2)\n",
    "print(\"Hypotenuse =\", c)"
   ]
  },
  {
   "cell_type": "code",
   "execution_count": 5,
   "metadata": {},
   "outputs": [
    {
     "name": "stdout",
     "output_type": "stream",
     "text": [
      "Enter base: 33\n",
      "Enter height: 25\n",
      "Enter angle: 30\n",
      "Hypotenuse = 41.400483088968905\n"
     ]
    }
   ],
   "source": [
    "import math\n",
    "a = float(input(\"Enter base: \"))\n",
    "b = float(input(\"Enter height: \"))\n",
    "x = float(input(\"Enter angle: \"))\n",
    "c = math.sqrt(a ** 2 + b ** 2)\n",
    "print(\"Hypotenuse =\", c)"
   ]
  },
  {
   "cell_type": "markdown",
   "metadata": {},
   "source": [
    "# Q15)Write a python program to print the frequency of each of the characters present in a given string."
   ]
  },
  {
   "cell_type": "code",
   "execution_count": 6,
   "metadata": {},
   "outputs": [
    {
     "name": "stdout",
     "output_type": "stream",
     "text": [
      "Characters and their corresponding frequencies\n",
      "H-1\n",
      "A-3\n",
      "V-1\n",
      "E-2\n",
      "N-1\n",
      "I-1\n",
      "C-1\n",
      "D-1\n",
      "Y-1\n"
     ]
    }
   ],
   "source": [
    "string = \"HAVE A NICE DAY\";  \n",
    "freq = [None] * len(string);  \n",
    "for i in range(0, len(string)):  \n",
    "    freq[i] = 1;  \n",
    "    for j in range(i+1, len(string)):  \n",
    "        if(string[i] == string[j]):  \n",
    "            freq[i] = freq[i] + 1;  \n",
    "                            \n",
    "            string = string[ : j] + '0' + string[j+1 : ];  \n",
    "              \n",
    "print(\"Characters and their corresponding frequencies\");  \n",
    "for i in range(0, len(freq)):  \n",
    "    if(string[i] != ' ' and string[i] != '0'):  \n",
    "        print(string[i] + \"-\" + str(freq[i])); "
   ]
  },
  {
   "cell_type": "code",
   "execution_count": 7,
   "metadata": {},
   "outputs": [
    {
     "name": "stdout",
     "output_type": "stream",
     "text": [
      "Characters and their corresponding frequencies\n",
      "P-2\n",
      "I-1\n",
      "C-2\n",
      "T-2\n",
      "U-1\n",
      "R-2\n",
      "E-3\n",
      "F-1\n"
     ]
    }
   ],
   "source": [
    "string = \"PICTURE PERFECT\";  \n",
    "freq = [None] * len(string);  \n",
    "for i in range(0, len(string)):  \n",
    "    freq[i] = 1;  \n",
    "    for j in range(i+1, len(string)):  \n",
    "        if(string[i] == string[j]):  \n",
    "            freq[i] = freq[i] + 1;  \n",
    "                            \n",
    "            string = string[ : j] + '0' + string[j+1 : ];  \n",
    "              \n",
    "print(\"Characters and their corresponding frequencies\");  \n",
    "for i in range(0, len(freq)):  \n",
    "    if(string[i] != ' ' and string[i] != '0'):  \n",
    "        print(string[i] + \"-\" + str(freq[i]));  "
   ]
  }
 ],
 "metadata": {
  "kernelspec": {
   "display_name": "Python 3",
   "language": "python",
   "name": "python3"
  },
  "language_info": {
   "codemirror_mode": {
    "name": "ipython",
    "version": 3
   },
   "file_extension": ".py",
   "mimetype": "text/x-python",
   "name": "python",
   "nbconvert_exporter": "python",
   "pygments_lexer": "ipython3",
   "version": "3.8.5"
  }
 },
 "nbformat": 4,
 "nbformat_minor": 4
}
